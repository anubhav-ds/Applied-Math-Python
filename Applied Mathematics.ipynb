{
 "cells": [
  {
   "cell_type": "code",
   "execution_count": 2,
   "id": "b7d9366c",
   "metadata": {},
   "outputs": [],
   "source": [
    "from sympy import *\n",
    "from sympy.plotting import *\n",
    "import math\n",
    "import numpy as np\n",
    "import matplotlib.pyplot as plt\n",
    "import math"
   ]
  },
  {
   "cell_type": "code",
   "execution_count": 2,
   "id": "be8ad644",
   "metadata": {},
   "outputs": [],
   "source": [
    "# Defining a single symbol\n",
    "x = symbols('x')\n",
    "\n",
    "# Defining three symbols at once\n",
    "a, b, c = symbols('a, b, c')\n",
    "\n",
    "# Defining a multi-character symbol\n",
    "tau = symbols('tau')"
   ]
  },
  {
   "cell_type": "code",
   "execution_count": 3,
   "id": "dfed7c27",
   "metadata": {},
   "outputs": [
    {
     "data": {
      "text/latex": [
       "$\\displaystyle x$"
      ],
      "text/plain": [
       "x"
      ]
     },
     "execution_count": 3,
     "metadata": {},
     "output_type": "execute_result"
    }
   ],
   "source": [
    "x"
   ]
  },
  {
   "cell_type": "code",
   "execution_count": 4,
   "id": "098f229f",
   "metadata": {},
   "outputs": [
    {
     "data": {
      "text/latex": [
       "$\\displaystyle x + 1$"
      ],
      "text/plain": [
       "x + 1"
      ]
     },
     "execution_count": 4,
     "metadata": {},
     "output_type": "execute_result"
    }
   ],
   "source": [
    "# Add the definition x = symbols('x') to resolve the error\n",
    "\n",
    "x + 1"
   ]
  },
  {
   "cell_type": "code",
   "execution_count": 5,
   "id": "4c0af1a6",
   "metadata": {},
   "outputs": [
    {
     "data": {
      "text/latex": [
       "$\\displaystyle 9$"
      ],
      "text/plain": [
       "9"
      ]
     },
     "execution_count": 5,
     "metadata": {},
     "output_type": "execute_result"
    }
   ],
   "source": [
    "# Define the symbol\n",
    "x = symbols('x')\n",
    "# Define an expression\n",
    "expression = 2*x - 1\n",
    "# Substitute 5 for x\n",
    "expression.subs(x, 5)"
   ]
  },
  {
   "cell_type": "code",
   "execution_count": 8,
   "id": "5fa7be4b",
   "metadata": {},
   "outputs": [
    {
     "name": "stdout",
     "output_type": "stream",
     "text": [
      "0.3333333333333333\n",
      "1/3\n"
     ]
    }
   ],
   "source": [
    "# The quotient 1/3 is truncated\n",
    "print(1/3)\n",
    "print(Rational(1, 3))"
   ]
  },
  {
   "cell_type": "code",
   "execution_count": 10,
   "id": "d7f4a2c8",
   "metadata": {},
   "outputs": [
    {
     "name": "stdout",
     "output_type": "stream",
     "text": [
      "sqrt(2)\n"
     ]
    },
    {
     "data": {
      "text/latex": [
       "$\\displaystyle 1.4142135623731$"
      ],
      "text/plain": [
       "1.41421356237310"
      ]
     },
     "execution_count": 10,
     "metadata": {},
     "output_type": "execute_result"
    }
   ],
   "source": [
    "expr = sqrt(2)\n",
    "print(expr)\n",
    "expr.evalf()"
   ]
  },
  {
   "cell_type": "code",
   "execution_count": 11,
   "id": "52f63f41",
   "metadata": {},
   "outputs": [],
   "source": [
    "x = Symbol(\"x\")"
   ]
  },
  {
   "cell_type": "code",
   "execution_count": 12,
   "id": "e2ed300c",
   "metadata": {},
   "outputs": [
    {
     "data": {
      "text/latex": [
       "$\\displaystyle x + 2$"
      ],
      "text/plain": [
       "x + 2"
      ]
     },
     "execution_count": 12,
     "metadata": {},
     "output_type": "execute_result"
    }
   ],
   "source": [
    "x + 2"
   ]
  },
  {
   "cell_type": "code",
   "execution_count": 18,
   "id": "2112fbb7",
   "metadata": {},
   "outputs": [],
   "source": [
    "x,y,z = symbols(\"x,y,z\")"
   ]
  },
  {
   "cell_type": "code",
   "execution_count": 22,
   "id": "9ccaff11",
   "metadata": {},
   "outputs": [
    {
     "data": {
      "text/latex": [
       "$\\displaystyle \\left(x + y\\right)^{2}$"
      ],
      "text/plain": [
       "(x + y)**2"
      ]
     },
     "execution_count": 22,
     "metadata": {},
     "output_type": "execute_result"
    }
   ],
   "source": [
    "((x + y)**2).expand()"
   ]
  },
  {
   "cell_type": "code",
   "execution_count": 29,
   "id": "5e49411b",
   "metadata": {},
   "outputs": [
    {
     "data": {
      "text/latex": [
       "$\\displaystyle \\left(x - y\\right) \\left(x + y\\right)$"
      ],
      "text/plain": [
       "(x - y)*(x + y)"
      ]
     },
     "execution_count": 29,
     "metadata": {},
     "output_type": "execute_result"
    }
   ],
   "source": [
    "(x**2 - y**2).factor()"
   ]
  },
  {
   "cell_type": "code",
   "execution_count": 30,
   "id": "47a5930d",
   "metadata": {},
   "outputs": [],
   "source": [
    "f  = x + y + z"
   ]
  },
  {
   "cell_type": "code",
   "execution_count": 31,
   "id": "2e82bdd7",
   "metadata": {},
   "outputs": [
    {
     "data": {
      "text/latex": [
       "$\\displaystyle y + z + 6$"
      ],
      "text/plain": [
       "y + z + 6"
      ]
     },
     "execution_count": 31,
     "metadata": {},
     "output_type": "execute_result"
    }
   ],
   "source": [
    "f.subs(x,6)"
   ]
  },
  {
   "cell_type": "code",
   "execution_count": 36,
   "id": "b3bc28ea",
   "metadata": {},
   "outputs": [
    {
     "data": {
      "text/latex": [
       "$\\displaystyle \\tilde{\\infty}$"
      ],
      "text/plain": [
       "zoo"
      ]
     },
     "execution_count": 36,
     "metadata": {},
     "output_type": "execute_result"
    }
   ],
   "source": [
    "f = (8*x**4 - 4*x**3 - 4*x**2 + 2*x - 1)/(2*x**2)\n",
    "f.subs(x,0)"
   ]
  },
  {
   "cell_type": "code",
   "execution_count": 39,
   "id": "1619b0dd",
   "metadata": {},
   "outputs": [
    {
     "data": {
      "text/latex": [
       "$\\displaystyle 4 x^{2} - 2 x - 2 + \\frac{1}{x} - \\frac{1}{2 x^{2}}$"
      ],
      "text/plain": [
       "4*x**2 - 2*x - 2 + 1/x - 1/(2*x**2)"
      ]
     },
     "execution_count": 39,
     "metadata": {},
     "output_type": "execute_result"
    }
   ],
   "source": [
    "f.simplify()"
   ]
  },
  {
   "cell_type": "code",
   "execution_count": 51,
   "id": "95b83385",
   "metadata": {},
   "outputs": [
    {
     "data": {
      "text/latex": [
       "$\\displaystyle 2.23606797749979$"
      ],
      "text/plain": [
       "2.23606797749979"
      ]
     },
     "execution_count": 51,
     "metadata": {},
     "output_type": "execute_result"
    }
   ],
   "source": [
    "x = sqrt(5)\n",
    "x.evalf()"
   ]
  },
  {
   "cell_type": "code",
   "execution_count": null,
   "id": "aa45d495",
   "metadata": {},
   "outputs": [],
   "source": []
  },
  {
   "cell_type": "code",
   "execution_count": 3,
   "id": "7c80bcae",
   "metadata": {},
   "outputs": [],
   "source": [
    "x = Symbol('x')"
   ]
  },
  {
   "cell_type": "code",
   "execution_count": null,
   "id": "2810816f",
   "metadata": {},
   "outputs": [],
   "source": []
  },
  {
   "cell_type": "code",
   "execution_count": 4,
   "id": "ae200a10",
   "metadata": {},
   "outputs": [
    {
     "data": {
      "image/png": "[encoded data removed]",
      "text/plain": [
       "<Figure size 640x480 with 1 Axes>"
      ]
     },
     "metadata": {},
     "output_type": "display_data"
    },
    {
     "data": {
      "text/plain": [
       "<sympy.plotting.backends.matplotlibbackend.matplotlib.MatplotlibBackend at 0x7fdbd962d950>"
      ]
     },
     "execution_count": 4,
     "metadata": {},
     "output_type": "execute_result"
    }
   ],
   "source": [
    "plot(x**2)"
   ]
  },
  {
   "cell_type": "code",
   "execution_count": 9,
   "id": "fb8c3e35",
   "metadata": {},
   "outputs": [
    {
     "data": {
      "image/png": "[encoded data removed]",
      "text/plain": [
       "<Figure size 640x480 with 1 Axes>"
      ]
     },
     "metadata": {},
     "output_type": "display_data"
    }
   ],
   "source": [
    "plot1 = plot(x**2, (x, -3,3))"
   ]
  },
  {
   "cell_type": "code",
   "execution_count": 10,
   "id": "e678a73f",
   "metadata": {},
   "outputs": [
    {
     "data": {
      "image/png": "[encoded data removed]",
      "text/plain": [
       "<Figure size 640x480 with 1 Axes>"
      ]
     },
     "metadata": {},
     "output_type": "display_data"
    }
   ],
   "source": [
    "plot1[0].line_color = 'g'\n",
    "plot1.show()"
   ]
  },
  {
   "cell_type": "code",
   "execution_count": 20,
   "id": "5b2e08ae",
   "metadata": {},
   "outputs": [
    {
     "data": {
      "image/png": "[encoded data removed]",
      "text/plain": [
       "<Figure size 640x480 with 1 Axes>"
      ]
     },
     "metadata": {},
     "output_type": "display_data"
    },
    {
     "data": {
      "text/plain": [
       "<sympy.plotting.backends.matplotlibbackend.matplotlib.MatplotlibBackend at 0x7fdb17f8fd90>"
      ]
     },
     "execution_count": 20,
     "metadata": {},
     "output_type": "execute_result"
    }
   ],
   "source": [
    "f1 = 3*x + 5\n",
    "f2 = x**3\n",
    "plot((f1,(x, -2.5, 2.5)),(f2, (x, -2.5, 2.5)))"
   ]
  },
  {
   "cell_type": "code",
   "execution_count": null,
   "id": "c539523e",
   "metadata": {},
   "outputs": [],
   "source": []
  },
  {
   "cell_type": "code",
   "execution_count": 19,
   "id": "c0cce458",
   "metadata": {},
   "outputs": [
    {
     "data": {
      "image/png": "[encoded data removed]",
      "text/plain": [
       "<Figure size 640x480 with 1 Axes>"
      ]
     },
     "metadata": {},
     "output_type": "display_data"
    },
    {
     "data": {
      "text/plain": [
       "<sympy.plotting.backends.matplotlibbackend.matplotlib.MatplotlibBackend at 0x7fdb17f37b10>"
      ]
     },
     "execution_count": 19,
     "metadata": {},
     "output_type": "execute_result"
    }
   ],
   "source": [
    "plot((f1, (x, -10,0)), (f2, (x, 0, 5)))"
   ]
  },
  {
   "cell_type": "code",
   "execution_count": 23,
   "id": "1531f169",
   "metadata": {},
   "outputs": [
    {
     "data": {
      "text/latex": [
       "$\\displaystyle 5.0 x - 9.0$"
      ],
      "text/plain": [
       "5.0*x - 9.0"
      ]
     },
     "execution_count": 23,
     "metadata": {},
     "output_type": "execute_result"
    }
   ],
   "source": [
    "#Problem 1: Defining a Linear Function\n",
    "\n",
    "def linear(x1, y1, x2, y2):\n",
    "    x = Symbol('x')\n",
    "    slope = (y2 - y1)/(x2 - x1)\n",
    "    return slope*x + y1 - slope*x1\n",
    "linear(1, -4, 3, 6)"
   ]
  },
  {
   "cell_type": "code",
   "execution_count": 30,
   "id": "2aab83ba",
   "metadata": {},
   "outputs": [
    {
     "data": {
      "text/latex": [
       "$\\displaystyle \\frac{\\log{\\left(b \\right)}}{\\log{\\left(x \\right)}}$"
      ],
      "text/plain": [
       "log(b)/log(x)"
      ]
     },
     "execution_count": 30,
     "metadata": {},
     "output_type": "execute_result"
    }
   ],
   "source": [
    "b, x = symbols('b,x')\n",
    "log(b,x)"
   ]
  },
  {
   "cell_type": "code",
   "execution_count": 34,
   "id": "0eff77ef",
   "metadata": {},
   "outputs": [
    {
     "data": {
      "text/latex": [
       "$\\displaystyle 1.6094379124341$"
      ],
      "text/plain": [
       "1.60943791243410"
      ]
     },
     "execution_count": 34,
     "metadata": {},
     "output_type": "execute_result"
    }
   ],
   "source": [
    "lnx = ln(x)\n",
    "lnx.subs(x,5).evalf()"
   ]
  },
  {
   "cell_type": "code",
   "execution_count": 35,
   "id": "48af8246",
   "metadata": {},
   "outputs": [],
   "source": [
    "# Let p be an integer\n",
    "p = symbols('p', integer=True)\n",
    "# Let n be a real number\n",
    "n = symbols('n', real=True)\n",
    "# Let a and b be positive\n",
    "a, b = symbols('a b', positive=True)"
   ]
  },
  {
   "cell_type": "code",
   "execution_count": 38,
   "id": "a7163817",
   "metadata": {},
   "outputs": [
    {
     "data": {
      "text/latex": [
       "$\\displaystyle 5 x + 3 = 1$"
      ],
      "text/plain": [
       "Eq(5*x + 3, 1)"
      ]
     },
     "execution_count": 38,
     "metadata": {},
     "output_type": "execute_result"
    }
   ],
   "source": [
    "x = symbols('x')\n",
    "Eq(5*x + 3, 1)"
   ]
  },
  {
   "cell_type": "code",
   "execution_count": 39,
   "id": "10aaebdf",
   "metadata": {},
   "outputs": [
    {
     "data": {
      "text/latex": [
       "$\\displaystyle \\left\\{- \\frac{2}{5}\\right\\}$"
      ],
      "text/plain": [
       "{-2/5}"
      ]
     },
     "execution_count": 39,
     "metadata": {},
     "output_type": "execute_result"
    }
   ],
   "source": [
    "x = symbols('x')\n",
    "solveset(Eq(5*x + 3, 1), x)"
   ]
  },
  {
   "cell_type": "code",
   "execution_count": 40,
   "id": "66ef3de9",
   "metadata": {},
   "outputs": [
    {
     "data": {
      "text/latex": [
       "$\\displaystyle \\left\\{-1, 1\\right\\}$"
      ],
      "text/plain": [
       "{-1, 1}"
      ]
     },
     "execution_count": 40,
     "metadata": {},
     "output_type": "execute_result"
    }
   ],
   "source": [
    "x = symbols('x')\n",
    "solveset(Eq(x**2, 1), x)"
   ]
  },
  {
   "cell_type": "code",
   "execution_count": 87,
   "id": "4c2fb7c8",
   "metadata": {},
   "outputs": [
    {
     "data": {
      "text/latex": [
       "$\\displaystyle e^{-5}$"
      ],
      "text/plain": [
       "exp(-5)"
      ]
     },
     "execution_count": 87,
     "metadata": {},
     "output_type": "execute_result"
    }
   ],
   "source": [
    "exp(-5)"
   ]
  },
  {
   "cell_type": "code",
   "execution_count": 42,
   "id": "e79d3c3c",
   "metadata": {},
   "outputs": [
    {
     "data": {
      "text/latex": [
       "$\\displaystyle \\left\\{3\\right\\}$"
      ],
      "text/plain": [
       "{3}"
      ]
     },
     "execution_count": 42,
     "metadata": {},
     "output_type": "execute_result"
    }
   ],
   "source": [
    "x = symbols('x')\n",
    "solveset(Eq(2**x, 8), x)\n",
    "solveset(Eq(2**x, 8), x, domain = S.Reals)"
   ]
  },
  {
   "cell_type": "code",
   "execution_count": 46,
   "id": "13790c01",
   "metadata": {},
   "outputs": [
    {
     "data": {
      "text/plain": [
       "16.119020948027543"
      ]
     },
     "execution_count": 46,
     "metadata": {},
     "output_type": "execute_result"
    }
   ],
   "source": [
    "math.exp(2.78)"
   ]
  },
  {
   "cell_type": "code",
   "execution_count": 49,
   "id": "ff71ff96",
   "metadata": {},
   "outputs": [
    {
     "data": {
      "text/plain": [
       "0.30102999566398114"
      ]
     },
     "execution_count": 49,
     "metadata": {},
     "output_type": "execute_result"
    }
   ],
   "source": [
    "math.log(2, 10)"
   ]
  },
  {
   "cell_type": "code",
   "execution_count": 50,
   "id": "7ced9163",
   "metadata": {},
   "outputs": [
    {
     "data": {
      "text/plain": [
       "2.0"
      ]
     },
     "execution_count": 50,
     "metadata": {},
     "output_type": "execute_result"
    }
   ],
   "source": [
    "math.log10(100)"
   ]
  },
  {
   "cell_type": "code",
   "execution_count": null,
   "id": "6c7cc5cb",
   "metadata": {},
   "outputs": [],
   "source": []
  },
  {
   "cell_type": "code",
   "execution_count": 78,
   "id": "9be5628b",
   "metadata": {},
   "outputs": [
    {
     "data": {
      "image/png": "[encoded data removed]",
      "text/plain": [
       "<Figure size 640x480 with 1 Axes>"
      ]
     },
     "metadata": {},
     "output_type": "display_data"
    }
   ],
   "source": [
    "x = np.linspace(0.001, 16, 2000)\n",
    "y_e = np.log(x)\n",
    "y_2 = np.log2(x)\n",
    "y_10 = np.log10(x)\n",
    "\n",
    "plt.plot(x, y_e)\n",
    "plt.plot(x, y_2)\n",
    "plt.plot(x, y_10)\n",
    "\n",
    "plt.legend([\"ln\", \"log2\", \"log10\"], loc = 'lower right')\n",
    "plt.axhline(0, color = \"black\", linewidth = 0.5)\n",
    "plt.axvline(0, color = 'black', linewidth = 0.5)\n",
    "plt.show()"
   ]
  },
  {
   "cell_type": "code",
   "execution_count": 82,
   "id": "054862ca",
   "metadata": {},
   "outputs": [
    {
     "data": {
      "text/plain": [
       "3.6596310116070008"
      ]
     },
     "execution_count": 82,
     "metadata": {},
     "output_type": "execute_result"
    }
   ],
   "source": [
    "math.log10(4567)"
   ]
  },
  {
   "cell_type": "code",
   "execution_count": 83,
   "id": "b87aa91a",
   "metadata": {},
   "outputs": [
    {
     "data": {
      "text/latex": [
       "$\\displaystyle \\log{\\left(\\frac{x \\left(z + 1\\right)^{4}}{y^{3}} \\right)}$"
      ],
      "text/plain": [
       "log(x*(z + 1)**4/y**3)"
      ]
     },
     "execution_count": 83,
     "metadata": {},
     "output_type": "execute_result"
    }
   ],
   "source": [
    "x, y, z=symbols('x, y, z', positive=True)\n",
    "logcombine(ln(x) - 3*ln(y) + 4*ln(z + 1))"
   ]
  },
  {
   "cell_type": "code",
   "execution_count": 85,
   "id": "1a3b2a2a",
   "metadata": {},
   "outputs": [
    {
     "data": {
      "text/latex": [
       "$\\displaystyle \\left\\{\\frac{1}{-1 + e}\\right\\}$"
      ],
      "text/plain": [
       "{1/(-1 + E)}"
      ]
     },
     "execution_count": 85,
     "metadata": {},
     "output_type": "execute_result"
    }
   ],
   "source": [
    "x = symbols('x')\n",
    "# Optional: name the equation\n",
    "# to reduce the amount of parentheses in the solve function\n",
    "my_equation = Eq(ln(x+1) - ln(x), 1)\n",
    "# Solve for x and consider only real solutions\n",
    "solveset(my_equation, x, domain=S.Reals)"
   ]
  },
  {
   "cell_type": "code",
   "execution_count": 90,
   "id": "478a1e09",
   "metadata": {},
   "outputs": [
    {
     "data": {
      "text/latex": [
       "$\\displaystyle \\log{\\left(\\frac{x^{2} z^{3}}{y + 1} \\right)}$"
      ],
      "text/plain": [
       "log(x**2*z**3/(y + 1))"
      ]
     },
     "execution_count": 90,
     "metadata": {},
     "output_type": "execute_result"
    }
   ],
   "source": [
    "x, y, z = symbols('x y z', positive=True)\n",
    "logcombine(2*ln(x) - ln(y+1) + 3*ln(z))"
   ]
  },
  {
   "cell_type": "code",
   "execution_count": 97,
   "id": "cc570e93",
   "metadata": {},
   "outputs": [
    {
     "data": {
      "text/latex": [
       "$\\displaystyle \\frac{x^{2}}{2 y}$"
      ],
      "text/plain": [
       "x**2/(2*y)"
      ]
     },
     "execution_count": 97,
     "metadata": {},
     "output_type": "execute_result"
    }
   ],
   "source": [
    "logcombine(exp(2*ln(x)- ln(2*y)))"
   ]
  },
  {
   "cell_type": "code",
   "execution_count": 100,
   "id": "f0e6f03b",
   "metadata": {},
   "outputs": [
    {
     "data": {
      "text/latex": [
       "$\\displaystyle \\left\\{- \\frac{1}{2}, 2\\right\\}$"
      ],
      "text/plain": [
       "{-1/2, 2}"
      ]
     },
     "execution_count": 100,
     "metadata": {},
     "output_type": "execute_result"
    }
   ],
   "source": [
    "q = symbols('q')\n",
    "solveset(Eq(exp(2*(q**2)),exp(3*q+2)))"
   ]
  },
  {
   "cell_type": "code",
   "execution_count": 102,
   "id": "e7d0e527",
   "metadata": {},
   "outputs": [
    {
     "data": {
      "text/latex": [
       "$\\displaystyle \\left\\{2\\right\\}$"
      ],
      "text/plain": [
       "{2}"
      ]
     },
     "execution_count": 102,
     "metadata": {},
     "output_type": "execute_result"
    }
   ],
   "source": [
    "solveset(Eq(2*ln(x), ln(2*x)), domain=S.Reals)"
   ]
  },
  {
   "cell_type": "code",
   "execution_count": 105,
   "id": "40ad61e2",
   "metadata": {},
   "outputs": [
    {
     "data": {
      "text/latex": [
       "$\\displaystyle \\left\\{- \\frac{1}{4}\\right\\}$"
      ],
      "text/plain": [
       "{-1/4}"
      ]
     },
     "execution_count": 105,
     "metadata": {},
     "output_type": "execute_result"
    }
   ],
   "source": [
    "k = symbols('k')\n",
    "solveset(Eq(2**(k*-12),8), domain = S.Reals)"
   ]
  },
  {
   "cell_type": "code",
   "execution_count": 111,
   "id": "aec7cd5a",
   "metadata": {},
   "outputs": [
    {
     "data": {
      "text/latex": [
       "$\\displaystyle 1393.05048076946$"
      ],
      "text/plain": [
       "1393.05048076946"
      ]
     },
     "execution_count": 111,
     "metadata": {},
     "output_type": "execute_result"
    }
   ],
   "source": [
    "720*exp(0.03*t).subs(t,22)"
   ]
  },
  {
   "cell_type": "code",
   "execution_count": 110,
   "id": "91371c3c",
   "metadata": {},
   "outputs": [
    {
     "data": {
      "text/latex": [
       "$\\displaystyle \\left\\{22.1658767864416\\right\\}$"
      ],
      "text/plain": [
       "{22.1658767864416}"
      ]
     },
     "execution_count": 110,
     "metadata": {},
     "output_type": "execute_result"
    }
   ],
   "source": [
    "t = symbols('t')\n",
    "solveset(Eq(720*exp(0.03*t), 1400), domain = S.Reals).evalf()"
   ]
  },
  {
   "cell_type": "code",
   "execution_count": 112,
   "id": "d4dbe040",
   "metadata": {},
   "outputs": [],
   "source": [
    "a = b"
   ]
  },
  {
   "cell_type": "code",
   "execution_count": 113,
   "id": "4ed207a5",
   "metadata": {},
   "outputs": [
    {
     "name": "stdout",
     "output_type": "stream",
     "text": [
      "[2.90000000000000, 2.98999999999998, 2.99899999999986, 3.00100000000014, 3.00999999999998, 3.10000000000000]\n"
     ]
    }
   ],
   "source": [
    "x = symbols('x')\n",
    "# define the function f\n",
    "f = (x**2 - x - 2)/(x - 2)\n",
    "# make a list of values approaching 2 from the left and right\n",
    "x_values = [1.9, 1.99, 1.999, 2.001, 2.01, 2.1]\n",
    "# use list comprehension to make a list of function values\n",
    "f_values = [f.subs(x, i) for i in x_values]\n",
    "print(f_values)"
   ]
  },
  {
   "cell_type": "code",
   "execution_count": 119,
   "id": "8c8c0af1",
   "metadata": {},
   "outputs": [
    {
     "data": {
      "text/latex": [
       "$\\displaystyle 4$"
      ],
      "text/plain": [
       "4"
      ]
     },
     "execution_count": 119,
     "metadata": {},
     "output_type": "execute_result"
    }
   ],
   "source": [
    "limit((x**2 - x - 2)/(x - 2), x, 3)"
   ]
  },
  {
   "cell_type": "code",
   "execution_count": 120,
   "id": "f2e74025",
   "metadata": {},
   "outputs": [
    {
     "data": {
      "text/latex": [
       "$\\displaystyle \\infty$"
      ],
      "text/plain": [
       "oo"
      ]
     },
     "execution_count": 120,
     "metadata": {},
     "output_type": "execute_result"
    }
   ],
   "source": [
    "x = symbols('x')\n",
    "limit(exp(x), x, oo)"
   ]
  },
  {
   "cell_type": "code",
   "execution_count": 121,
   "id": "27fd4c7f",
   "metadata": {},
   "outputs": [
    {
     "name": "stdout",
     "output_type": "stream",
     "text": [
      "2*E\n"
     ]
    },
    {
     "data": {
      "text/latex": [
       "$\\displaystyle 5.43656365691809$"
      ],
      "text/plain": [
       "5.43656365691809"
      ]
     },
     "execution_count": 121,
     "metadata": {},
     "output_type": "execute_result"
    }
   ],
   "source": [
    "x, h = symbols('x, h')\n",
    "# Write symbolic expression for the function\n",
    "f_x = exp(x**2)\n",
    "# Substitute for f(1 + h)\n",
    "f_1h = f_x.subs(x, 1 + h)\n",
    "# Substitute for f(1)\n",
    "f_1 = f_x.subs(x, 1)\n",
    "# Limit for instantaneous rate of change at 1\n",
    "iroc1 = limit((f_1h -f_1)/h, h, 0)\n",
    "print(iroc1)\n",
    "iroc1.evalf()"
   ]
  },
  {
   "cell_type": "code",
   "execution_count": 122,
   "id": "754b7c2f",
   "metadata": {},
   "outputs": [
    {
     "data": {
      "text/latex": [
       "$\\displaystyle 3$"
      ],
      "text/plain": [
       "3"
      ]
     },
     "execution_count": 122,
     "metadata": {},
     "output_type": "execute_result"
    }
   ],
   "source": [
    "limit((x**2 - x - 2)/(x - 2), x, 2, \"-\")"
   ]
  },
  {
   "cell_type": "code",
   "execution_count": 123,
   "id": "d408a13b",
   "metadata": {},
   "outputs": [
    {
     "data": {
      "text/latex": [
       "$\\displaystyle 3$"
      ],
      "text/plain": [
       "3"
      ]
     },
     "execution_count": 123,
     "metadata": {},
     "output_type": "execute_result"
    }
   ],
   "source": [
    "limit((x**2 - x - 2)/(x - 2), x, 2, \"+\")"
   ]
  },
  {
   "cell_type": "code",
   "execution_count": 133,
   "id": "4d866f2c",
   "metadata": {},
   "outputs": [
    {
     "data": {
      "text/latex": [
       "$\\displaystyle \\infty$"
      ],
      "text/plain": [
       "oo"
      ]
     },
     "execution_count": 133,
     "metadata": {},
     "output_type": "execute_result"
    }
   ],
   "source": [
    "limit((x**2 - x - 2)/(x - 2), x, S.Infinity)"
   ]
  },
  {
   "cell_type": "code",
   "execution_count": 135,
   "id": "17d61220",
   "metadata": {},
   "outputs": [
    {
     "data": {
      "text/latex": [
       "$\\displaystyle \\frac{6}{5}$"
      ],
      "text/plain": [
       "6/5"
      ]
     },
     "execution_count": 135,
     "metadata": {},
     "output_type": "execute_result"
    }
   ],
   "source": [
    "limit((x+1)/(x), x, 5)"
   ]
  },
  {
   "cell_type": "code",
   "execution_count": 145,
   "id": "fd9b6306",
   "metadata": {},
   "outputs": [],
   "source": [
    "#year and hourly wages data in USD\n",
    "t_h_values = [(1970, 3.40),(1975,4.73), (1980, 6.84), (1985,8.73), (1990,10.09)]"
   ]
  },
  {
   "cell_type": "code",
   "execution_count": 140,
   "id": "09209102",
   "metadata": {},
   "outputs": [
    {
     "name": "stdout",
     "output_type": "stream",
     "text": [
      "0.344\n"
     ]
    }
   ],
   "source": [
    "#slope between years 1980 and 1970 implying that yearly increase in hourly wages is around 0.344 dollars\n",
    "print((t_h_values[2][1]-t_h_values[0][1])/(t_h_values[2][0] - t_h_values[0][0]))"
   ]
  },
  {
   "cell_type": "code",
   "execution_count": 147,
   "id": "596e9eb0",
   "metadata": {},
   "outputs": [
    {
     "name": "stdout",
     "output_type": "stream",
     "text": [
      "[0.2660000000000001, 0.4219999999999999, 0.3780000000000001, 0.2719999999999999]\n"
     ]
    }
   ],
   "source": [
    "#slope across the years from 1970 to 1990 for the period of 5 years\n",
    "print([(t_h_values[i][1]-t_h_values[i-1][1])/(t_h_values[i][0] - t_h_values[i-1][0]) for i in range(1, len(t_h_values))])"
   ]
  },
  {
   "cell_type": "code",
   "execution_count": 151,
   "id": "1d82ad98",
   "metadata": {},
   "outputs": [
    {
     "name": "stdout",
     "output_type": "stream",
     "text": [
      "2.14985097377029\n"
     ]
    }
   ],
   "source": [
    "#tumor growth problem\n",
    "x = symbols('x')\n",
    "eq = 0.9*exp(0.7*x)\n",
    "#rate of change for 3 months\n",
    "print(simplify((eq.subs(x,3) - eq.subs(x,0))/3))"
   ]
  },
  {
   "cell_type": "code",
   "execution_count": 161,
   "id": "3e72725a",
   "metadata": {},
   "outputs": [
    {
     "name": "stdout",
     "output_type": "stream",
     "text": [
      "5.14468704491762\n"
     ]
    }
   ],
   "source": [
    "#rate of change at 3rd month\n",
    "print(diff(eq, x).subs(x,3))"
   ]
  },
  {
   "cell_type": "code",
   "execution_count": 163,
   "id": "621427f1",
   "metadata": {},
   "outputs": [
    {
     "data": {
      "text/latex": [
       "$\\displaystyle \\infty$"
      ],
      "text/plain": [
       "oo"
      ]
     },
     "execution_count": 163,
     "metadata": {},
     "output_type": "execute_result"
    }
   ],
   "source": [
    "limit(eq, x, S.Infinity)"
   ]
  },
  {
   "cell_type": "code",
   "execution_count": 164,
   "id": "4b118085",
   "metadata": {},
   "outputs": [
    {
     "data": {
      "text/latex": [
       "$\\displaystyle 0$"
      ],
      "text/plain": [
       "0"
      ]
     },
     "execution_count": 164,
     "metadata": {},
     "output_type": "execute_result"
    }
   ],
   "source": [
    "t = symbols('t')\n",
    "limit(t/exp(t), t, S.Infinity)"
   ]
  },
  {
   "cell_type": "code",
   "execution_count": 170,
   "id": "47bc877d",
   "metadata": {},
   "outputs": [
    {
     "name": "stdout",
     "output_type": "stream",
     "text": [
      "-0.126632027342156\n"
     ]
    }
   ],
   "source": [
    "eq = 1.2*exp(-0.15*t)\n",
    "print(simplify((eq.subs(t,5) - eq.subs(t,0))/5))"
   ]
  },
  {
   "cell_type": "code",
   "execution_count": 172,
   "id": "1ebedd5e",
   "metadata": {},
   "outputs": [
    {
     "data": {
      "text/latex": [
       "$\\displaystyle -0.0850259794933826$"
      ],
      "text/plain": [
       "-0.0850259794933826"
      ]
     },
     "execution_count": 172,
     "metadata": {},
     "output_type": "execute_result"
    }
   ],
   "source": [
    "diff(eq, t).subs(t,5)"
   ]
  },
  {
   "cell_type": "code",
   "execution_count": 174,
   "id": "6f57d615",
   "metadata": {},
   "outputs": [
    {
     "name": "stdout",
     "output_type": "stream",
     "text": [
      "Slope (26 to 32): 69.66666666666667\n",
      "Slope (28 to 32): 71.75\n",
      "Slope (30 to 32): 71.0\n",
      "Slope (32 to 34): 66.0\n",
      "Estimated heart rate at t=32 (central difference): 68.5\n"
     ]
    }
   ],
   "source": [
    "\n",
    "# Define the symbols and given data\n",
    "t1, t2 = symbols('t1 t2')  \n",
    "# Define the data as a dictionary for convenience:\n",
    "data = {26: 2530, 28: 2661, 30: 2806, 32: 2948, 34: 3080}\n",
    "\n",
    "# (a) Slope for t=26 and t=32\n",
    "slope_26_32 = (data[32] - data[26]) / (32 - 26)\n",
    "print(\"Slope (26 to 32):\", slope_26_32)\n",
    "\n",
    "# (b) Slope for t=28 and t=32\n",
    "slope_28_32 = (data[32] - data[28]) / (32 - 28)\n",
    "print(\"Slope (28 to 32):\", slope_28_32)\n",
    "\n",
    "# (c) Slope for t=30 and t=32\n",
    "slope_30_32 = (data[32] - data[30]) / (32 - 30)\n",
    "print(\"Slope (30 to 32):\", slope_30_32)\n",
    "\n",
    "# (d) Slope for t=32 and t=34\n",
    "slope_32_34 = (data[34] - data[32]) / (34 - 32)\n",
    "print(\"Slope (32 to 34):\", slope_32_34)\n",
    "\n",
    "# Using central difference (t=30 and t=34) to estimate the instantaneous rate at t=32\n",
    "central_diff = (data[34] - data[30]) / (34 - 30)\n",
    "print(\"Estimated heart rate at t=32 (central difference):\", central_diff)"
   ]
  },
  {
   "cell_type": "code",
   "execution_count": 176,
   "id": "22d6355e",
   "metadata": {},
   "outputs": [
    {
     "data": {
      "text/latex": [
       "$\\displaystyle -1 - 2 e^{- x}$"
      ],
      "text/plain": [
       "-1 - 2*exp(-x)"
      ]
     },
     "execution_count": 176,
     "metadata": {},
     "output_type": "execute_result"
    }
   ],
   "source": [
    "diff(2*exp(-x) - x)"
   ]
  },
  {
   "cell_type": "code",
   "execution_count": 5,
   "id": "522a5ee1",
   "metadata": {},
   "outputs": [
    {
     "data": {
      "text/latex": [
       "$\\displaystyle 3 t^{2} - 2$"
      ],
      "text/plain": [
       "3*t**2 - 2"
      ]
     },
     "execution_count": 5,
     "metadata": {},
     "output_type": "execute_result"
    }
   ],
   "source": [
    "t = symbols('t')\n",
    "diff(t**3-2*t,t)"
   ]
  },
  {
   "cell_type": "code",
   "execution_count": 6,
   "id": "75ee1470",
   "metadata": {},
   "outputs": [
    {
     "data": {
      "text/latex": [
       "$\\displaystyle 8 t^{4} + 3 t^{2} \\left(4 t^{2} + \\frac{1}{4}\\right)$"
      ],
      "text/plain": [
       "8*t**4 + 3*t**2*(4*t**2 + 1/4)"
      ]
     },
     "execution_count": 6,
     "metadata": {},
     "output_type": "execute_result"
    }
   ],
   "source": [
    "diff((1+16*t**2)/4*t**3,t)"
   ]
  },
  {
   "cell_type": "code",
   "execution_count": 2,
   "id": "cd9a242e",
   "metadata": {},
   "outputs": [
    {
     "name": "stdout",
     "output_type": "stream",
     "text": [
      "3*x**2 + 2*x - 1\n",
      "{-1, 1/3}\n"
     ]
    }
   ],
   "source": [
    "#calculating critical values\n",
    "x = symbols('x')\n",
    "# Store the original function f(x)\n",
    "f = x**3 + x**2 - x\n",
    "# Store the derivative f'(x)\n",
    "f_prime = diff(f, x)\n",
    "print(f_prime)\n",
    "print(solveset(f_prime, x))"
   ]
  },
  {
   "cell_type": "code",
   "execution_count": 4,
   "id": "3bdc2e86",
   "metadata": {},
   "outputs": [
    {
     "data": {
      "text/plain": [
       "[7, -1, 4]"
      ]
     },
     "execution_count": 4,
     "metadata": {},
     "output_type": "execute_result"
    }
   ],
   "source": [
    "sample = [-2, 0, 1]\n",
    "sample_values = [f_prime.subs(x, i) for i in sample]\n",
    "sample_values"
   ]
  },
  {
   "cell_type": "code",
   "execution_count": 5,
   "id": "c42992ba",
   "metadata": {},
   "outputs": [
    {
     "name": "stdout",
     "output_type": "stream",
     "text": [
      "[-2, 1, -0.185185185185185, 1]\n"
     ]
    }
   ],
   "source": [
    "x = symbols('x')\n",
    "f = x**3 + x**2 - x\n",
    "# list possible x values of extrema\n",
    "x_values = [-2, -1, 1/3, 1]\n",
    "# compute function values\n",
    "f_values = [f.subs(x, i) for i in x_values]\n",
    "print(f_values)"
   ]
  },
  {
   "cell_type": "code",
   "execution_count": 11,
   "id": "ddd07d33",
   "metadata": {},
   "outputs": [
    {
     "name": "stdout",
     "output_type": "stream",
     "text": [
      "[-2, 1]\n"
     ]
    }
   ],
   "source": [
    "x = symbols('x')\n",
    "fx = x**4 - 6*x**2 + 8*x\n",
    "print(solve(diff(fx,x),x))"
   ]
  },
  {
   "cell_type": "code",
   "execution_count": 29,
   "id": "ed91c5d0",
   "metadata": {},
   "outputs": [
    {
     "name": "stdout",
     "output_type": "stream",
     "text": [
      "[1.00000000000000]\n",
      "[0.367879441171442, 1.00000000000000, 0, 0.295562243957226, 0.803421476927507]\n"
     ]
    }
   ],
   "source": [
    "x = symbols('x')\n",
    "fx = exp(x)/(x**2 + 1)\n",
    "diff1 = diff(fx,x,1).evalf()\n",
    "critical_points = solve(diff1,x)\n",
    "print(critical_points)\n",
    "print([diff1.subs(x,i).evalf() for i in [-1,0,1,2,3]])\n",
    "#from the above slope values we can see that while 1 is indeed a critical point the slope has been increasing around this interval\n",
    "#hence x = 1 is neither a local minima or a local maxima"
   ]
  },
  {
   "cell_type": "code",
   "execution_count": 38,
   "id": "cf8d4943",
   "metadata": {},
   "outputs": [
    {
     "data": {
      "text/latex": [
       "$\\displaystyle 1.0$"
      ],
      "text/plain": [
       "1.00000000000000"
      ]
     },
     "execution_count": 38,
     "metadata": {},
     "output_type": "execute_result"
    }
   ],
   "source": [
    "#maximum value e^(-x^2) can have\n",
    "exp(-x**2).subs(x, 0).evalf()"
   ]
  },
  {
   "cell_type": "code",
   "execution_count": 44,
   "id": "4b9d86a4",
   "metadata": {},
   "outputs": [
    {
     "name": "stdout",
     "output_type": "stream",
     "text": [
      "[0.0, 2.00000000000000]\n",
      "[-4.00000000000000, 0, -2.00000000000000, -3.37500000000000, -4.00000000000000]\n"
     ]
    }
   ],
   "source": [
    "x = symbols('x')\n",
    "fx = x**3 - 3*x**2\n",
    "diff1 = diff(fx,x,1).evalf()\n",
    "critical_points = solve(diff1,x)\n",
    "print(critical_points)\n",
    "print([fx.subs(x,i).evalf() for i in [-1,0,1,1.5,2]])"
   ]
  },
  {
   "cell_type": "code",
   "execution_count": 57,
   "id": "0a53f948",
   "metadata": {},
   "outputs": [
    {
     "name": "stdout",
     "output_type": "stream",
     "text": [
      "[1.00000000000000]\n",
      "[-12.0000000000000, -6.00000000000000, 0, 3.00000000000000, 6.00000000000000]\n",
      "Concave down for: (-oo < x) & (x < 1.0)\n"
     ]
    }
   ],
   "source": [
    "x = symbols('x')\n",
    "fx = x**3 - 3*x**2\n",
    "diff2 = diff(fx,x,2).evalf()\n",
    "print(solve(diff2,x))\n",
    "print([diff2.subs(x,i).evalf() for i in [-1,0,1,1.5,2]])\n",
    "# Solve inequality for concavity (k''(x) < 0)\n",
    "solution = solve_univariate_inequality(diff2 < 0, x)\n",
    "print(\"Concave down for:\", solution)"
   ]
  },
  {
   "cell_type": "code",
   "execution_count": 58,
   "id": "2c017efe",
   "metadata": {},
   "outputs": [
    {
     "name": "stdout",
     "output_type": "stream",
     "text": [
      "[105.000000000000]\n"
     ]
    }
   ],
   "source": [
    "x = symbols('x')\n",
    "fx = 240*x - x**2 - 30*x - 72\n",
    "diff1 = diff(fx,x,1).evalf()\n",
    "critical_points = solve(diff1,x)\n",
    "print(critical_points)"
   ]
  },
  {
   "cell_type": "code",
   "execution_count": 61,
   "id": "65cdeb9f",
   "metadata": {},
   "outputs": [
    {
     "name": "stdout",
     "output_type": "stream",
     "text": [
      "[80.0000000000000]\n",
      "maximum possible area with given constraints: 3200\n"
     ]
    }
   ],
   "source": [
    "x = symbols('x')\n",
    "fx = 80*x - x**2/2\n",
    "diff1 = diff(fx,x,1).evalf()\n",
    "critical_points = solve(diff1,x)\n",
    "print(critical_points)\n",
    "cx = 80\n",
    "cy = 40\n",
    "print(\"maximum possible area with given constraints:\", cx*cy)"
   ]
  },
  {
   "cell_type": "code",
   "execution_count": 63,
   "id": "45682fe8",
   "metadata": {},
   "outputs": [
    {
     "data": {
      "text/latex": [
       "$\\displaystyle \\log{\\left(5 \\right)}$"
      ],
      "text/plain": [
       "log(5)"
      ]
     },
     "execution_count": 63,
     "metadata": {},
     "output_type": "execute_result"
    }
   ],
   "source": [
    "ln(5)"
   ]
  },
  {
   "cell_type": "code",
   "execution_count": 72,
   "id": "de12df75",
   "metadata": {},
   "outputs": [
    {
     "name": "stdout",
     "output_type": "stream",
     "text": [
      "[192.000000000000]\n",
      "function is concave down as second derivative at the point is less than 0 : -1/192\n",
      "maximum students who can be infected: 526\n"
     ]
    }
   ],
   "source": [
    "x = symbols('x')\n",
    "fx = 192*ln(x/1041) - x + 1042\n",
    "diff1 = diff(fx,x,1).evalf()\n",
    "critical_points = solve(diff1,x)\n",
    "print(critical_points)\n",
    "print(\"function is concave down as second derivative at the point is less than 0 :\", diff(fx,x,2).subs(x,192))\n",
    "print(\"maximum students who can be infected:\", math.ceil(fx.subs(x, 192).evalf()))"
   ]
  },
  {
   "cell_type": "code",
   "execution_count": 4,
   "id": "92cc3099",
   "metadata": {},
   "outputs": [
    {
     "name": "stdout",
     "output_type": "stream",
     "text": [
      "The left-hand sum is 1.75000000000000 and the right-hand sum is 3.75000000000000\n"
     ]
    }
   ],
   "source": [
    "x = symbols('x')\n",
    "f = x**2  + 2*x + 1\n",
    "a = -1\n",
    "b = 1\n",
    "n = 4\n",
    "dx = (b - a)/n \n",
    "x_left = [a + i*dx for i in range (0, n)]\n",
    "x_right = [a + i*dx for i in range(1,n+1)]\n",
    "f_left = [f.subs(x,i) for i in x_left]\n",
    "f_right = [f.subs(x,i) for i in x_right]\n",
    "LHS = sum(f_left)*dx\n",
    "RHS = sum(f_right)*dx\n",
    "print(f'The left-hand sum is {LHS} and the right-hand sum is {RHS}')"
   ]
  },
  {
   "cell_type": "code",
   "execution_count": 5,
   "id": "03c7de31",
   "metadata": {},
   "outputs": [
    {
     "data": {
      "text/latex": [
       "$\\displaystyle 1$"
      ],
      "text/plain": [
       "1"
      ]
     },
     "execution_count": 5,
     "metadata": {},
     "output_type": "execute_result"
    }
   ],
   "source": [
    "x = symbols('x')\n",
    "integrate(x*exp(x), (x, 0, 1))"
   ]
  },
  {
   "cell_type": "code",
   "execution_count": 22,
   "id": "429aab44",
   "metadata": {},
   "outputs": [
    {
     "data": {
      "text/latex": [
       "$\\displaystyle 61.3333333333333$"
      ],
      "text/plain": [
       "61.3333333333333"
      ]
     },
     "execution_count": 22,
     "metadata": {},
     "output_type": "execute_result"
    }
   ],
   "source": [
    "x = symbols('x')\n",
    "#solution\n",
    "h = 16 - x**2\n",
    "# area above x axis\n",
    "above = integrate(h, (x, 0, 4))\n",
    "# area below x axis\n",
    "below = -integrate(h, (x, 4, 6))\n",
    "# total area\n",
    "total_area = above + below\n",
    "total_area.evalf()"
   ]
  },
  {
   "cell_type": "code",
   "execution_count": 13,
   "id": "5c216dac",
   "metadata": {},
   "outputs": [],
   "source": [
    "import numpy as np"
   ]
  },
  {
   "cell_type": "code",
   "execution_count": 15,
   "id": "73064c15",
   "metadata": {},
   "outputs": [
    {
     "data": {
      "text/plain": [
       "27.0"
      ]
     },
     "execution_count": 15,
     "metadata": {},
     "output_type": "execute_result"
    }
   ],
   "source": [
    "dx = 3/3\n",
    "y = [4*(2 + i*dx) -3 for i in range(0,3)]\n",
    "x = [2 + i*dx for i in range(0,3)]\n",
    "sum(dx*np.array(y))"
   ]
  },
  {
   "cell_type": "code",
   "execution_count": 20,
   "id": "f9c22f76",
   "metadata": {},
   "outputs": [
    {
     "data": {
      "text/plain": [
       "3834.0"
      ]
     },
     "execution_count": 20,
     "metadata": {},
     "output_type": "execute_result"
    }
   ],
   "source": [
    "v = [ 81.8, 75.1, 47.6, 44.5, 55.7, 78.7 ]\n",
    "np.sum(np.array(v)*10)"
   ]
  },
  {
   "cell_type": "code",
   "execution_count": 26,
   "id": "d04d5469",
   "metadata": {},
   "outputs": [
    {
     "data": {
      "text/latex": [
       "$\\displaystyle 0.160994482997951$"
      ],
      "text/plain": [
       "0.160994482997951"
      ]
     },
     "execution_count": 26,
     "metadata": {},
     "output_type": "execute_result"
    }
   ],
   "source": [
    "Integral(ln(x),(x,1.3,1.7)).evalf()"
   ]
  },
  {
   "cell_type": "code",
   "execution_count": 27,
   "id": "64c4d69d",
   "metadata": {},
   "outputs": [
    {
     "data": {
      "text/latex": [
       "$\\displaystyle \\left(x - 1\\right) e^{x}$"
      ],
      "text/plain": [
       "(x - 1)*exp(x)"
      ]
     },
     "execution_count": 27,
     "metadata": {},
     "output_type": "execute_result"
    }
   ],
   "source": [
    "x = symbols('x')\n",
    "integrate(x*exp(x), x)"
   ]
  },
  {
   "cell_type": "code",
   "execution_count": 28,
   "id": "8deec410",
   "metadata": {},
   "outputs": [
    {
     "data": {
      "text/latex": [
       "$\\displaystyle 64.51648$"
      ],
      "text/plain": [
       "64.5164800000000"
      ]
     },
     "execution_count": 28,
     "metadata": {},
     "output_type": "execute_result"
    }
   ],
   "source": [
    "t = symbols('t')\n",
    "# store temperature function\n",
    "f = 58 - 0.2*t + 0.09*t**2 - 0.0005*t**3 - 0.0001*t**4\n",
    "# compute average value\n",
    "f_avg = (1/24)*integrate(f, (t, 0, 24)) \n",
    "f_avg"
   ]
  },
  {
   "cell_type": "code",
   "execution_count": 31,
   "id": "2c885c15",
   "metadata": {},
   "outputs": [
    {
     "data": {
      "text/latex": [
       "$\\displaystyle - \\log{\\left(4 \\right)} + \\log{\\left(9 \\right)} + 12.6666666666667$"
      ],
      "text/plain": [
       "-log(4) + log(9) + 12.6666666666667"
      ]
     },
     "execution_count": 31,
     "metadata": {},
     "output_type": "execute_result"
    }
   ],
   "source": [
    "fx = x**(1/2) + 1/x\n",
    "integrate(fx, (x, 4,9))"
   ]
  },
  {
   "cell_type": "code",
   "execution_count": 33,
   "id": "fbfe0319",
   "metadata": {},
   "outputs": [
    {
     "data": {
      "text/latex": [
       "$\\displaystyle - \\frac{\\log{\\left(e^{x} - 2 \\right)}}{4} + \\frac{\\log{\\left(e^{x} + 2 \\right)}}{4}$"
      ],
      "text/plain": [
       "-log(exp(x) - 2)/4 + log(exp(x) + 2)/4"
      ]
     },
     "execution_count": 33,
     "metadata": {},
     "output_type": "execute_result"
    }
   ],
   "source": [
    "x = symbols('x')\n",
    "fx = exp(x)/(4- exp(2*x))\n",
    "integrate(fx, x)"
   ]
  },
  {
   "cell_type": "code",
   "execution_count": 34,
   "id": "71efe549",
   "metadata": {},
   "outputs": [
    {
     "name": "stdout",
     "output_type": "stream",
     "text": [
      "30\n"
     ]
    }
   ],
   "source": [
    "import sympy as sp\n",
    "\n",
    "# Declare the symbol and function\n",
    "x = sp.symbols('x')\n",
    "f = 3*x**2 + 2*x\n",
    "\n",
    "# Define the limits of the interval\n",
    "a = 0\n",
    "b = 5\n",
    "\n",
    "# Compute the definite integral\n",
    "integral_value = sp.integrate(f, (x, a, b))\n",
    "average_value = integral_value / (b - a)\n",
    "\n",
    "print(average_value)  # This should output 30"
   ]
  },
  {
   "cell_type": "code",
   "execution_count": 46,
   "id": "1811ea7e",
   "metadata": {},
   "outputs": [
    {
     "name": "stdout",
     "output_type": "stream",
     "text": [
      "46840\n"
     ]
    }
   ],
   "source": [
    "import sympy as sp\n",
    "\n",
    "# Define the variable and constant\n",
    "t = sp.symbols('t')\n",
    "C = sp.symbols('C')\n",
    "\n",
    "# Define N(t) in its general form\n",
    "N = integrate(4000 -30*t**2) + C\n",
    "\n",
    "# Using the condition N(1) = 28990\n",
    "C_value = 28990 - (4000*1 - 10*1**3)\n",
    "# C_value should be 25000\n",
    "N = N.subs(C, C_value)\n",
    "\n",
    "# Calculate N(6)\n",
    "net_worth_2021 = N.subs(t, 6)\n",
    "print(round(net_worth_2021, 2))\n"
   ]
  },
  {
   "cell_type": "code",
   "execution_count": 41,
   "id": "46e0ecf8",
   "metadata": {},
   "outputs": [
    {
     "data": {
      "text/latex": [
       "$\\displaystyle - 10 t^{3} + 4000 t + 25000$"
      ],
      "text/plain": [
       "-10*t**3 + 4000*t + 25000"
      ]
     },
     "execution_count": 41,
     "metadata": {},
     "output_type": "execute_result"
    }
   ],
   "source": [
    "N"
   ]
  },
  {
   "cell_type": "code",
   "execution_count": 43,
   "id": "7a9e6d80",
   "metadata": {},
   "outputs": [
    {
     "data": {
      "text/latex": [
       "$\\displaystyle - t^{3} + 4000 t$"
      ],
      "text/plain": [
       "-t**3 + 4000*t"
      ]
     },
     "execution_count": 43,
     "metadata": {},
     "output_type": "execute_result"
    }
   ],
   "source": [
    "N"
   ]
  }
 ],
 "metadata": {
  "kernelspec": {
   "display_name": "Python 3 (ipykernel)",
   "language": "python",
   "name": "python3"
  },
  "language_info": {
   "codemirror_mode": {
    "name": "ipython",
    "version": 3
   },
   "file_extension": ".py",
   "mimetype": "text/x-python",
   "name": "python",
   "nbconvert_exporter": "python",
   "pygments_lexer": "ipython3",
   "version": "3.11.4"
  }
 },
 "nbformat": 4,
 "nbformat_minor": 5
}
